{
 "cells": [
  {
   "cell_type": "code",
   "execution_count": 1,
   "metadata": {},
   "outputs": [],
   "source": [
    "import pandas as pd\n",
    "import numpy as np\n",
    "import matplotlib.pyplot as plt\n",
    "%matplotlib inline\n",
    "import seaborn as sns\n",
    "\n",
    "import random\n",
    "from numpy.linalg import eig"
   ]
  },
  {
   "cell_type": "markdown",
   "metadata": {},
   "source": [
    "### General Setup:\n",
    "- $A_{i,i+1}$ : matrices which represent each bus stop\n",
    "    - given the state of bus stop i, what is the probability p of the state of bus stop i+1\n",
    "- A : block matrix which represents one full bus route"
   ]
  },
  {
   "cell_type": "markdown",
   "metadata": {},
   "source": [
    "<img src=\"./Capture.jpg\" width=700 height=700 />"
   ]
  },
  {
   "cell_type": "markdown",
   "metadata": {},
   "source": [
    "### Function: Simulate multiple full bus routes to track probability of end state"
   ]
  },
  {
   "cell_type": "code",
   "execution_count": 2,
   "metadata": {},
   "outputs": [],
   "source": [
    "def full_route_count(A):\n",
    "    start_vec = np.zeros((1,33))\n",
    "    #given that stop 1 was on time\n",
    "    start_vec[:,1] = 1  \n",
    "\n",
    "    #data for countplot\n",
    "    end_state_data = []\n",
    "\n",
    "    #10,000 simulations\n",
    "    for i in range(10000):\n",
    "\n",
    "        #state vector of stop 1 after full route\n",
    "        end_vec = start_vec @ A @ A @ A @ A @ A @ A @ A @ A @ A @ A @ A  \n",
    "        #choose end state according to resulting probabilites\n",
    "        end_state = random.choices(['early', 'on time', 'late'], weights=(end_vec[0,0], end_vec[0,1], end_vec[0,2]))\n",
    "        #record data for countplot\n",
    "        end_state_data.append(end_state[0]) \n",
    "    \n",
    "    return end_state_data"
   ]
  },
  {
   "cell_type": "markdown",
   "metadata": {},
   "source": [
    "### Function: Find stationary distribution of A11"
   ]
  },
  {
   "cell_type": "code",
   "execution_count": 3,
   "metadata": {},
   "outputs": [],
   "source": [
    "def get_stationary(A12, A23, A34, A45, A56, A67, A78, A89, A910, A1011, A111):\n",
    "\n",
    "    #transition matrix for this purpose\n",
    "    A11 = A12 @ A23 @ A34 @ A45 @ A56 @ A67 @ A78 @ A89 @ A910 @ A1011 @ A111\n",
    "\n",
    "    #need to find left eigvecs of transition matrix A11\n",
    "    #but np.linalg.eig only finds right eigvecs, so we use transpose A11 instead \n",
    "    evals, evecs = eig(A11.T)\n",
    "    #get eigvec with eigval 1\n",
    "    evec1 = evecs[:,np.isclose(evals, 1)]\n",
    "    evec1 = evec1[:,0]\n",
    "    #normalize vector\n",
    "    stationary = evec1 / evec1.sum()\n",
    "    print(stationary)"
   ]
  },
  {
   "cell_type": "markdown",
   "metadata": {},
   "source": [
    "### Function: Record state of every stop, for multiple full route simulations"
   ]
  },
  {
   "cell_type": "code",
   "execution_count": 4,
   "metadata": {},
   "outputs": [],
   "source": [
    "def each_stop_count(A12, A23, A34, A45, A56, A67, A78, A89, A910, A1011, A111):\n",
    "\n",
    "    num_routes = 10000\n",
    "    \n",
    "    #data for countplot    \n",
    "    #stop_state_data = pd.DataFrame(np.zeros((11,3)), columns=['early','on time','late'])\n",
    "    stop_state_data = pd.DataFrame(np.zeros((11*num_routes,2)), columns=['Stop', 'State'])\n",
    "    stop_state_data['Stop'] = stop_state_data['Stop'].astype(int)\n",
    "    stop_state_data['State'] = stop_state_data['State'].astype(str)\n",
    "\n",
    "    #10000 simulations of full routes\n",
    "    data_row = 0\n",
    "    for i in range(num_routes):\n",
    "        #reset variables\n",
    "        stop = 2  #stop '12' = stop 1\n",
    "        state_vec = np.zeros((1,3))\n",
    "        #given that stop 1 was on time\n",
    "        state_vec[:,1] = 1\n",
    "\n",
    "        #for each full route, record state after each bus stop\n",
    "        for trans_mat in [A12, A23, A34, A45, A56, A67, A78, A89, A910, A1011, A111]:\n",
    "            #state vector after one stop\n",
    "            state_vec = state_vec @ trans_mat \n",
    "            #choose end state according to resulting probabilites\n",
    "            end_state = random.choices(['early', 'on time', 'late'], weights=(state_vec[0,0], state_vec[0,1], state_vec[0,2]))\n",
    "            #record data for countplot\n",
    "            stop_state_data.at[data_row, 'Stop'] = stop\n",
    "            stop_state_data.at[data_row, 'State'] = end_state[0]\n",
    "            stop = stop + 1\n",
    "            data_row = data_row + 1\n",
    "\n",
    "    #set stop '12' to correct bus stop number: stop 1\n",
    "    stop_state_data.loc[(stop_state_data['Stop'] == 12), 'Stop'] = 1\n",
    "    \n",
    "    return stop_state_data"
   ]
  },
  {
   "cell_type": "markdown",
   "metadata": {},
   "source": [
    "## Question 1: What does the timeliness of the bus's full route and individual stops look like when we alter the probabilities in the transition matrix?"
   ]
  },
  {
   "cell_type": "markdown",
   "metadata": {},
   "source": [
    "**Note: For this question, we will only be looking at symmetric matrices.**"
   ]
  },
  {
   "cell_type": "markdown",
   "metadata": {},
   "source": [
    "### Scenario 1:\n",
    "$A_{i,i+1}$ = $\\begin{bmatrix} 1 & 0 & 0 \\\\ 0 & 1 & 0 \\\\ 0 & 0 & 1 \\end{bmatrix}$ "
   ]
  },
  {
   "cell_type": "markdown",
   "metadata": {},
   "source": [
    "**Set up matrices:**"
   ]
  },
  {
   "cell_type": "code",
   "execution_count": 5,
   "metadata": {},
   "outputs": [],
   "source": [
    "#each bus stop\n",
    "A12 = A23 = A34 = A45 = A56 = A67 = A78 = A89 = A910 = A1011 = A111 = np.array([[1,0,0], \n",
    "                                                                                [0,1,0], \n",
    "                                                                                [0,0,1]])\n",
    "#full bus route\n",
    "m0 = np.zeros((3,3))\n",
    "A = np.block([[m0,A12,m0,m0,m0,m0,m0,m0,m0,m0,m0], \n",
    "              [m0,m0,A23,m0,m0,m0,m0,m0,m0,m0,m0],\n",
    "              [m0,m0,m0,A34,m0,m0,m0,m0,m0,m0,m0],\n",
    "              [m0,m0,m0,m0,A45,m0,m0,m0,m0,m0,m0],\n",
    "              [m0,m0,m0,m0,m0,A56,m0,m0,m0,m0,m0],\n",
    "              [m0,m0,m0,m0,m0,m0,A67,m0,m0,m0,m0],\n",
    "              [m0,m0,m0,m0,m0,m0,m0,A78,m0,m0,m0],\n",
    "              [m0,m0,m0,m0,m0,m0,m0,m0,A89,m0,m0],\n",
    "              [m0,m0,m0,m0,m0,m0,m0,m0,m0,A910,m0],\n",
    "              [m0,m0,m0,m0,m0,m0,m0,m0,m0,m0,A1011], \n",
    "              [A111,m0,m0,m0,m0,m0,m0,m0,m0,m0,m0]])"
   ]
  },
  {
   "cell_type": "markdown",
   "metadata": {},
   "source": [
    "**Simulate multiple full bus routes and create countplot:**"
   ]
  },
  {
   "cell_type": "code",
   "execution_count": 6,
   "metadata": {},
   "outputs": [
    {
     "data": {
      "image/png": "[encoded data removed]",
      "text/plain": [
       "<Figure size 432x288 with 1 Axes>"
      ]
     },
     "metadata": {
      "needs_background": "light"
     },
     "output_type": "display_data"
    }
   ],
   "source": [
    "#call function\n",
    "end_state_data = full_route_count(A)\n",
    "\n",
    "#countplot\n",
    "p = sns.countplot(end_state_data, order=['early', 'on time', 'late'])\n",
    "p.axes.set_title('Scenario 1', fontsize=18, fontweight='bold')\n",
    "p.set_xlabel('Timeliness at Last Stop',fontsize=15)\n",
    "p.set_ylabel('Count',fontsize=15)\n",
    "p.tick_params(labelsize=15)\n",
    "\n",
    "plt.savefig('q1s1f1', bbox_inches='tight')\n",
    "plt.show()"
   ]
  },
  {
   "cell_type": "markdown",
   "metadata": {},
   "source": [
    "Given the transition matrix probabilities for Scenario 1, the bus will always return to stop 1 on time."
   ]
  },
  {
   "cell_type": "markdown",
   "metadata": {},
   "source": [
    "**Find Stationary Distribution of A11:**"
   ]
  },
  {
   "cell_type": "code",
   "execution_count": 7,
   "metadata": {},
   "outputs": [
    {
     "name": "stdout",
     "output_type": "stream",
     "text": [
      "[1. 0. 0.]\n"
     ]
    }
   ],
   "source": [
    "#call function\n",
    "get_stationary(A12, A23, A34, A45, A56, A67, A78, A89, A910, A1011, A111)"
   ]
  },
  {
   "cell_type": "markdown",
   "metadata": {},
   "source": [
    "Since the 3x3 matrix A11 equals the identity matrix, there are numerous eigenvectors with eigenvalue 1, giving rise to numerous associated stationary distributions. Hence, it does not make sense to discuss the stationary distribution in this scenario."
   ]
  },
  {
   "cell_type": "markdown",
   "metadata": {},
   "source": [
    "**Find states of each stop for simulations of many full routes:**"
   ]
  },
  {
   "cell_type": "code",
   "execution_count": 8,
   "metadata": {},
   "outputs": [
    {
     "data": {
      "image/png": "[encoded data removed]",
      "text/plain": [
       "<Figure size 432x288 with 1 Axes>"
      ]
     },
     "metadata": {
      "needs_background": "light"
     },
     "output_type": "display_data"
    }
   ],
   "source": [
    "#call function\n",
    "stop_state_data = each_stop_count(A12, A23, A34, A45, A56, A67, A78, A89, A910, A1011, A111)\n",
    "\n",
    "#countplot\n",
    "p = sns.countplot(x='Stop', hue='State', data=stop_state_data, order=[2,3,4,5,6,7,8,9,10,11,1], \n",
    "                  hue_order=['early','on time','late'])\n",
    "p.axes.set_title('Scenario 1', fontsize=18, fontweight='bold')\n",
    "p.set_xlabel('Timeliness Along Route',fontsize=15)\n",
    "p.set_ylabel('Count',fontsize=15)\n",
    "p.tick_params(labelsize=15)\n",
    "\n",
    "plt.savefig('q1s1f3', bbox_inches='tight')\n",
    "plt.show()"
   ]
  },
  {
   "cell_type": "markdown",
   "metadata": {},
   "source": [
    "### Scenario 2:\n",
    "$A_{i,i+1}$ = $\\begin{bmatrix} .9 & .05 & .05 \\\\ .05 & .9 & .05 \\\\ .05 & .05 & .9 \\end{bmatrix}$ "
   ]
  },
  {
   "cell_type": "markdown",
   "metadata": {},
   "source": [
    "**Set up matrices:**"
   ]
  },
  {
   "cell_type": "code",
   "execution_count": 9,
   "metadata": {},
   "outputs": [],
   "source": [
    "#each bus stop\n",
    "A12 = A23 = A34 = A45 = A56 = A67 = A78 = A89 = A910 = A1011 = A111 = np.array([[.9,.05,.05], \n",
    "                                                                                [.05,.9,.05], \n",
    "                                                                                [.05,.05,.9]])\n",
    "#full bus route\n",
    "m0 = np.zeros((3,3))\n",
    "A = np.block([[m0,A12,m0,m0,m0,m0,m0,m0,m0,m0,m0], \n",
    "              [m0,m0,A23,m0,m0,m0,m0,m0,m0,m0,m0],\n",
    "              [m0,m0,m0,A34,m0,m0,m0,m0,m0,m0,m0],\n",
    "              [m0,m0,m0,m0,A45,m0,m0,m0,m0,m0,m0],\n",
    "              [m0,m0,m0,m0,m0,A56,m0,m0,m0,m0,m0],\n",
    "              [m0,m0,m0,m0,m0,m0,A67,m0,m0,m0,m0],\n",
    "              [m0,m0,m0,m0,m0,m0,m0,A78,m0,m0,m0],\n",
    "              [m0,m0,m0,m0,m0,m0,m0,m0,A89,m0,m0],\n",
    "              [m0,m0,m0,m0,m0,m0,m0,m0,m0,A910,m0],\n",
    "              [m0,m0,m0,m0,m0,m0,m0,m0,m0,m0,A1011], \n",
    "              [A111,m0,m0,m0,m0,m0,m0,m0,m0,m0,m0]])"
   ]
  },
  {
   "cell_type": "markdown",
   "metadata": {},
   "source": [
    "**Simulate multiple full bus routes and create countplot:**"
   ]
  },
  {
   "cell_type": "code",
   "execution_count": 10,
   "metadata": {},
   "outputs": [
    {
     "data": {
      "image/png": "[encoded data removed]",
      "text/plain": [
       "<Figure size 432x288 with 1 Axes>"
      ]
     },
     "metadata": {
      "needs_background": "light"
     },
     "output_type": "display_data"
    }
   ],
   "source": [
    "#call function\n",
    "end_state_data = full_route_count(A)\n",
    "\n",
    "#countplot\n",
    "p = sns.countplot(end_state_data, order=['early', 'on time', 'late'])\n",
    "p.axes.set_title('Scenario 2', fontsize=18, fontweight='bold')\n",
    "p.set_xlabel('Timeliness at Last Stop',fontsize=15)\n",
    "p.set_ylabel('Count',fontsize=15)\n",
    "p.tick_params(labelsize=15)\n",
    "\n",
    "plt.savefig('q1s2f1', bbox_inches='tight')\n",
    "plt.show()"
   ]
  },
  {
   "cell_type": "markdown",
   "metadata": {},
   "source": [
    "Given the transition matrix probabilities for Scenario 2, there is (about) an equal probability that the bus will return to stop 1 either early or late, and a higher probability that it will return on time."
   ]
  },
  {
   "cell_type": "markdown",
   "metadata": {},
   "source": [
    "**Find Stationary Distribution of A11:**"
   ]
  },
  {
   "cell_type": "code",
   "execution_count": 11,
   "metadata": {},
   "outputs": [
    {
     "name": "stdout",
     "output_type": "stream",
     "text": [
      "[0.33333333 0.33333333 0.33333333]\n"
     ]
    }
   ],
   "source": [
    "#call function\n",
    "get_stationary(A12, A23, A34, A45, A56, A67, A78, A89, A910, A1011, A111)"
   ]
  },
  {
   "cell_type": "markdown",
   "metadata": {},
   "source": [
    "As time progresses, the probability distribution of early = .333, on time = .333, and late = .333, remains unchanged in the Markov chain."
   ]
  },
  {
   "cell_type": "markdown",
   "metadata": {},
   "source": [
    "**Find states of each stop for simulations of many full routes:**"
   ]
  },
  {
   "cell_type": "code",
   "execution_count": 12,
   "metadata": {},
   "outputs": [
    {
     "data": {
      "image/png": "[encoded data removed]",
      "text/plain": [
       "<Figure size 432x288 with 1 Axes>"
      ]
     },
     "metadata": {
      "needs_background": "light"
     },
     "output_type": "display_data"
    }
   ],
   "source": [
    "#call function\n",
    "stop_state_data = each_stop_count(A12, A23, A34, A45, A56, A67, A78, A89, A910, A1011, A111)\n",
    "\n",
    "#countplot\n",
    "p = sns.countplot(x='Stop', hue='State', data=stop_state_data, order=[2,3,4,5,6,7,8,9,10,11,1], \n",
    "                  hue_order=['early','on time','late'])\n",
    "p.axes.set_title('Scenario 2', fontsize=18, fontweight='bold')\n",
    "p.set_xlabel('Timeliness Along Route',fontsize=15)\n",
    "p.set_ylabel('Count',fontsize=15)\n",
    "p.tick_params(labelsize=15)\n",
    "\n",
    "plt.savefig('q1s2f3', bbox_inches='tight')\n",
    "plt.show()"
   ]
  },
  {
   "cell_type": "markdown",
   "metadata": {},
   "source": [
    "### Scenario 3:\n",
    "$A_{i,i+1}$ = $\\begin{bmatrix} .8 & .1 & .1 \\\\ .1 & .8 & .1 \\\\ .1 & .1 & .8 \\end{bmatrix}$ "
   ]
  },
  {
   "cell_type": "markdown",
   "metadata": {},
   "source": [
    "**Set up matrices:**"
   ]
  },
  {
   "cell_type": "code",
   "execution_count": 13,
   "metadata": {},
   "outputs": [],
   "source": [
    "#each bus stop\n",
    "A12 = A23 = A34 = A45 = A56 = A67 = A78 = A89 = A910 = A1011 = A111 = np.array([[.8,.1,.1], \n",
    "                                                                                [.1,.8,.1], \n",
    "                                                                                [.1,.1,.8]])\n",
    "#full bus route\n",
    "m0 = np.zeros((3,3))\n",
    "A = np.block([[m0,A12,m0,m0,m0,m0,m0,m0,m0,m0,m0], \n",
    "              [m0,m0,A23,m0,m0,m0,m0,m0,m0,m0,m0],\n",
    "              [m0,m0,m0,A34,m0,m0,m0,m0,m0,m0,m0],\n",
    "              [m0,m0,m0,m0,A45,m0,m0,m0,m0,m0,m0],\n",
    "              [m0,m0,m0,m0,m0,A56,m0,m0,m0,m0,m0],\n",
    "              [m0,m0,m0,m0,m0,m0,A67,m0,m0,m0,m0],\n",
    "              [m0,m0,m0,m0,m0,m0,m0,A78,m0,m0,m0],\n",
    "              [m0,m0,m0,m0,m0,m0,m0,m0,A89,m0,m0],\n",
    "              [m0,m0,m0,m0,m0,m0,m0,m0,m0,A910,m0],\n",
    "              [m0,m0,m0,m0,m0,m0,m0,m0,m0,m0,A1011], \n",
    "              [A111,m0,m0,m0,m0,m0,m0,m0,m0,m0,m0]])"
   ]
  },
  {
   "cell_type": "markdown",
   "metadata": {},
   "source": [
    "**Simulate multiple full bus routes and create countplot:**"
   ]
  },
  {
   "cell_type": "code",
   "execution_count": 14,
   "metadata": {},
   "outputs": [
    {
     "data": {
      "image/png": "[encoded data removed]",
      "text/plain": [
       "<Figure size 432x288 with 1 Axes>"
      ]
     },
     "metadata": {
      "needs_background": "light"
     },
     "output_type": "display_data"
    }
   ],
   "source": [
    "#call function\n",
    "end_state_data = full_route_count(A)\n",
    "\n",
    "#countplot\n",
    "p = sns.countplot(end_state_data, order=['early', 'on time', 'late'])\n",
    "p.axes.set_title('Scenario 3', fontsize=18, fontweight='bold')\n",
    "p.set_xlabel('Timeliness at Last Stop',fontsize=15)\n",
    "p.set_ylabel('Count',fontsize=15)\n",
    "p.tick_params(labelsize=15)\n",
    "\n",
    "plt.savefig('q1s3f1', bbox_inches='tight')\n",
    "plt.show()"
   ]
  },
  {
   "cell_type": "markdown",
   "metadata": {},
   "source": [
    "Given the transition matrix probabilities for Scenario 3, there is (about) an equal probability that the bus will return to stop 1 early, on time, or late."
   ]
  },
  {
   "cell_type": "markdown",
   "metadata": {},
   "source": [
    "**Find Stationary Distribution of A11:**"
   ]
  },
  {
   "cell_type": "code",
   "execution_count": 15,
   "metadata": {
    "scrolled": true
   },
   "outputs": [
    {
     "name": "stdout",
     "output_type": "stream",
     "text": [
      "[0.33333333 0.33333333 0.33333333]\n"
     ]
    }
   ],
   "source": [
    "#call function\n",
    "get_stationary(A12, A23, A34, A45, A56, A67, A78, A89, A910, A1011, A111)"
   ]
  },
  {
   "cell_type": "markdown",
   "metadata": {},
   "source": [
    "As time progresses, the probability distribution of early = .333, on time = .333, and late = .333, remains unchanged in the Markov chain."
   ]
  },
  {
   "cell_type": "markdown",
   "metadata": {},
   "source": [
    "**Find states of each stop for simulations of many full routes:**"
   ]
  },
  {
   "cell_type": "code",
   "execution_count": 16,
   "metadata": {},
   "outputs": [
    {
     "data": {
      "image/png": "[encoded data removed]",
      "text/plain": [
       "<Figure size 432x288 with 1 Axes>"
      ]
     },
     "metadata": {
      "needs_background": "light"
     },
     "output_type": "display_data"
    }
   ],
   "source": [
    "#call function\n",
    "stop_state_data = each_stop_count(A12, A23, A34, A45, A56, A67, A78, A89, A910, A1011, A111)\n",
    "\n",
    "#countplot\n",
    "p = sns.countplot(x='Stop', hue='State', data=stop_state_data, order=[2,3,4,5,6,7,8,9,10,11,1], \n",
    "                  hue_order=['early','on time','late'])\n",
    "p.axes.set_title('Scenario 3', fontsize=18, fontweight='bold')\n",
    "p.set_xlabel('Timeliness Along Route',fontsize=15)\n",
    "p.set_ylabel('Count',fontsize=15)\n",
    "p.tick_params(labelsize=15)\n",
    "\n",
    "plt.savefig('q1s3f3', bbox_inches='tight')\n",
    "plt.show()"
   ]
  },
  {
   "cell_type": "markdown",
   "metadata": {},
   "source": [
    "### Scenario 4:\n",
    "$A_{i,i+1}$ = $\\begin{bmatrix} .7 & .15 & .15 \\\\ .15 & .7 & .15 \\\\ .15 & .15 & .7 \\end{bmatrix}$ "
   ]
  },
  {
   "cell_type": "markdown",
   "metadata": {},
   "source": [
    "**Set up matrices:**"
   ]
  },
  {
   "cell_type": "code",
   "execution_count": 17,
   "metadata": {},
   "outputs": [],
   "source": [
    "#each bus stop\n",
    "A12 = A23 = A34 = A45 = A56 = A67 = A78 = A89 = A910 = A1011 = A111 = np.array([[.7,.15,.15], \n",
    "                                                                                [.15,.7,.15], \n",
    "                                                                                [.15,.15,.7]])\n",
    "#full bus route\n",
    "m0 = np.zeros((3,3))\n",
    "A = np.block([[m0,A12,m0,m0,m0,m0,m0,m0,m0,m0,m0], \n",
    "              [m0,m0,A23,m0,m0,m0,m0,m0,m0,m0,m0],\n",
    "              [m0,m0,m0,A34,m0,m0,m0,m0,m0,m0,m0],\n",
    "              [m0,m0,m0,m0,A45,m0,m0,m0,m0,m0,m0],\n",
    "              [m0,m0,m0,m0,m0,A56,m0,m0,m0,m0,m0],\n",
    "              [m0,m0,m0,m0,m0,m0,A67,m0,m0,m0,m0],\n",
    "              [m0,m0,m0,m0,m0,m0,m0,A78,m0,m0,m0],\n",
    "              [m0,m0,m0,m0,m0,m0,m0,m0,A89,m0,m0],\n",
    "              [m0,m0,m0,m0,m0,m0,m0,m0,m0,A910,m0],\n",
    "              [m0,m0,m0,m0,m0,m0,m0,m0,m0,m0,A1011], \n",
    "              [A111,m0,m0,m0,m0,m0,m0,m0,m0,m0,m0]])"
   ]
  },
  {
   "cell_type": "markdown",
   "metadata": {},
   "source": [
    "**Simulate multiple full bus routes and create countplot:**"
   ]
  },
  {
   "cell_type": "code",
   "execution_count": 18,
   "metadata": {},
   "outputs": [
    {
     "data": {
      "image/png": "[encoded data removed]",
      "text/plain": [
       "<Figure size 432x288 with 1 Axes>"
      ]
     },
     "metadata": {
      "needs_background": "light"
     },
     "output_type": "display_data"
    }
   ],
   "source": [
    "#call function\n",
    "end_state_data = full_route_count(A)\n",
    "\n",
    "#countplot\n",
    "p = sns.countplot(end_state_data, order=['early', 'on time', 'late'])\n",
    "p.axes.set_title('Scenario 4', fontsize=18, fontweight='bold')\n",
    "p.set_xlabel('Timeliness at Last Stop',fontsize=15)\n",
    "p.set_ylabel('Count',fontsize=15)\n",
    "p.tick_params(labelsize=15)\n",
    "\n",
    "plt.savefig('q1s4f1', bbox_inches='tight')\n",
    "plt.show()"
   ]
  },
  {
   "cell_type": "markdown",
   "metadata": {},
   "source": [
    "Given the transition matrix probabilities for Scenario 4, there is (about) an equal probability that the bus will return to stop 1 early, on time, or late."
   ]
  },
  {
   "cell_type": "markdown",
   "metadata": {},
   "source": [
    "**Find Stationary Distribution of A11:**"
   ]
  },
  {
   "cell_type": "code",
   "execution_count": 19,
   "metadata": {
    "scrolled": true
   },
   "outputs": [
    {
     "name": "stdout",
     "output_type": "stream",
     "text": [
      "[0.33333333 0.33333333 0.33333333]\n"
     ]
    }
   ],
   "source": [
    "#call function\n",
    "get_stationary(A12, A23, A34, A45, A56, A67, A78, A89, A910, A1011, A111)"
   ]
  },
  {
   "cell_type": "markdown",
   "metadata": {},
   "source": [
    "As time progresses, the probability distribution of early = .333, on time = .333, and late = .333, remains unchanged in the Markov chain."
   ]
  },
  {
   "cell_type": "markdown",
   "metadata": {},
   "source": [
    "**Find states of each stop for simulations of many full routes:**"
   ]
  },
  {
   "cell_type": "code",
   "execution_count": 20,
   "metadata": {},
   "outputs": [
    {
     "data": {
      "image/png": "[encoded data removed]",
      "text/plain": [
       "<Figure size 432x288 with 1 Axes>"
      ]
     },
     "metadata": {
      "needs_background": "light"
     },
     "output_type": "display_data"
    }
   ],
   "source": [
    "#call function\n",
    "stop_state_data = each_stop_count(A12, A23, A34, A45, A56, A67, A78, A89, A910, A1011, A111)\n",
    "\n",
    "#countplot\n",
    "p = sns.countplot(x='Stop', hue='State', data=stop_state_data, order=[2,3,4,5,6,7,8,9,10,11,1], \n",
    "                  hue_order=['early','on time','late'])\n",
    "p.axes.set_title('Scenario 4', fontsize=18, fontweight='bold')\n",
    "p.set_xlabel('Timeliness Along Route',fontsize=15)\n",
    "p.set_ylabel('Count',fontsize=15)\n",
    "p.tick_params(labelsize=15)\n",
    "\n",
    "plt.savefig('q1s4f3', bbox_inches='tight')\n",
    "plt.show()"
   ]
  },
  {
   "cell_type": "markdown",
   "metadata": {},
   "source": [
    "### Scenario 5:\n",
    "$A_{i,i+1}$ = $\\begin{bmatrix} .6 & .2 & .2 \\\\ .2 & .6 & .2 \\\\ .2 & .2 & .6 \\end{bmatrix}$ "
   ]
  },
  {
   "cell_type": "markdown",
   "metadata": {},
   "source": [
    "**Set up matrices:**"
   ]
  },
  {
   "cell_type": "code",
   "execution_count": 21,
   "metadata": {},
   "outputs": [],
   "source": [
    "#each bus stop\n",
    "A12 = A23 = A34 = A45 = A56 = A67 = A78 = A89 = A910 = A1011 = A111 = np.array([[.6,.2,.2], \n",
    "                                                                                [.2,.6,.2], \n",
    "                                                                                [.2,.2,.6]])\n",
    "#full bus route\n",
    "m0 = np.zeros((3,3))\n",
    "A = np.block([[m0,A12,m0,m0,m0,m0,m0,m0,m0,m0,m0], \n",
    "              [m0,m0,A23,m0,m0,m0,m0,m0,m0,m0,m0],\n",
    "              [m0,m0,m0,A34,m0,m0,m0,m0,m0,m0,m0],\n",
    "              [m0,m0,m0,m0,A45,m0,m0,m0,m0,m0,m0],\n",
    "              [m0,m0,m0,m0,m0,A56,m0,m0,m0,m0,m0],\n",
    "              [m0,m0,m0,m0,m0,m0,A67,m0,m0,m0,m0],\n",
    "              [m0,m0,m0,m0,m0,m0,m0,A78,m0,m0,m0],\n",
    "              [m0,m0,m0,m0,m0,m0,m0,m0,A89,m0,m0],\n",
    "              [m0,m0,m0,m0,m0,m0,m0,m0,m0,A910,m0],\n",
    "              [m0,m0,m0,m0,m0,m0,m0,m0,m0,m0,A1011], \n",
    "              [A111,m0,m0,m0,m0,m0,m0,m0,m0,m0,m0]])"
   ]
  },
  {
   "cell_type": "markdown",
   "metadata": {},
   "source": [
    "**Simulate multiple full bus routes and create countplot:**"
   ]
  },
  {
   "cell_type": "code",
   "execution_count": 22,
   "metadata": {},
   "outputs": [
    {
     "data": {
      "image/png": "[encoded data removed]",
      "text/plain": [
       "<Figure size 432x288 with 1 Axes>"
      ]
     },
     "metadata": {
      "needs_background": "light"
     },
     "output_type": "display_data"
    }
   ],
   "source": [
    "#call function\n",
    "end_state_data = full_route_count(A)\n",
    "\n",
    "#countplot\n",
    "p = sns.countplot(end_state_data, order=['early', 'on time', 'late'])\n",
    "p.axes.set_title('Scenario 5', fontsize=18, fontweight='bold')\n",
    "p.set_xlabel('Timeliness at Last Stop',fontsize=15)\n",
    "p.set_ylabel('Count',fontsize=15)\n",
    "p.tick_params(labelsize=15)\n",
    "\n",
    "plt.savefig('q1s5f1', bbox_inches='tight')\n",
    "plt.show()"
   ]
  },
  {
   "cell_type": "markdown",
   "metadata": {},
   "source": [
    "Given the transition matrix probabilities for Scenario 5, there is (about) an equal probability that the bus will return to stop 1 early, on time, or late."
   ]
  },
  {
   "cell_type": "markdown",
   "metadata": {},
   "source": [
    "**Find Stationary Distribution of A11:**"
   ]
  },
  {
   "cell_type": "code",
   "execution_count": 23,
   "metadata": {
    "scrolled": true
   },
   "outputs": [
    {
     "name": "stdout",
     "output_type": "stream",
     "text": [
      "[0.33333333 0.33333333 0.33333333]\n"
     ]
    }
   ],
   "source": [
    "#call function\n",
    "get_stationary(A12, A23, A34, A45, A56, A67, A78, A89, A910, A1011, A111)"
   ]
  },
  {
   "cell_type": "markdown",
   "metadata": {},
   "source": [
    "As time progresses, the probability distribution of early = .333, on time = .333, and late = .333, remains unchanged in the Markov chain."
   ]
  },
  {
   "cell_type": "markdown",
   "metadata": {},
   "source": [
    "**Find states of each stop for simulations of many full routes:**"
   ]
  },
  {
   "cell_type": "code",
   "execution_count": 24,
   "metadata": {},
   "outputs": [
    {
     "data": {
      "image/png": "[encoded data removed]",
      "text/plain": [
       "<Figure size 432x288 with 1 Axes>"
      ]
     },
     "metadata": {
      "needs_background": "light"
     },
     "output_type": "display_data"
    }
   ],
   "source": [
    "#call function\n",
    "stop_state_data = each_stop_count(A12, A23, A34, A45, A56, A67, A78, A89, A910, A1011, A111)\n",
    "\n",
    "#countplot\n",
    "p = sns.countplot(x='Stop', hue='State', data=stop_state_data, order=[2,3,4,5,6,7,8,9,10,11,1], \n",
    "                  hue_order=['early','on time','late'])\n",
    "p.axes.set_title('Scenario 5', fontsize=18, fontweight='bold')\n",
    "p.set_xlabel('Timeliness Along Route',fontsize=15)\n",
    "p.set_ylabel('Count',fontsize=15)\n",
    "p.tick_params(labelsize=15)\n",
    "\n",
    "plt.savefig('q1s5f3', bbox_inches='tight')\n",
    "plt.show()"
   ]
  },
  {
   "cell_type": "markdown",
   "metadata": {},
   "source": [
    "### Scenario 6:\n",
    "$A_{i,i+1}$ = $\\begin{bmatrix} .5 & .25 & .25 \\\\ .25 & .5 & .25 \\\\ .25 & .25 & .5 \\end{bmatrix}$ "
   ]
  },
  {
   "cell_type": "markdown",
   "metadata": {},
   "source": [
    "**Set up matrices:**"
   ]
  },
  {
   "cell_type": "code",
   "execution_count": 25,
   "metadata": {},
   "outputs": [],
   "source": [
    "#each bus stop\n",
    "A12 = A23 = A34 = A45 = A56 = A67 = A78 = A89 = A910 = A1011 = A111 = np.array([[.5,.25,.25], \n",
    "                                                                                [.25,.5,.25], \n",
    "                                                                                [.25,.25,.5]])\n",
    "#full bus route\n",
    "m0 = np.zeros((3,3))\n",
    "A = np.block([[m0,A12,m0,m0,m0,m0,m0,m0,m0,m0,m0], \n",
    "              [m0,m0,A23,m0,m0,m0,m0,m0,m0,m0,m0],\n",
    "              [m0,m0,m0,A34,m0,m0,m0,m0,m0,m0,m0],\n",
    "              [m0,m0,m0,m0,A45,m0,m0,m0,m0,m0,m0],\n",
    "              [m0,m0,m0,m0,m0,A56,m0,m0,m0,m0,m0],\n",
    "              [m0,m0,m0,m0,m0,m0,A67,m0,m0,m0,m0],\n",
    "              [m0,m0,m0,m0,m0,m0,m0,A78,m0,m0,m0],\n",
    "              [m0,m0,m0,m0,m0,m0,m0,m0,A89,m0,m0],\n",
    "              [m0,m0,m0,m0,m0,m0,m0,m0,m0,A910,m0],\n",
    "              [m0,m0,m0,m0,m0,m0,m0,m0,m0,m0,A1011], \n",
    "              [A111,m0,m0,m0,m0,m0,m0,m0,m0,m0,m0]])"
   ]
  },
  {
   "cell_type": "markdown",
   "metadata": {},
   "source": [
    "**Simulate multiple full bus routes and create countplot:**"
   ]
  },
  {
   "cell_type": "code",
   "execution_count": 26,
   "metadata": {},
   "outputs": [
    {
     "data": {
      "image/png": "[encoded data removed]",
      "text/plain": [
       "<Figure size 432x288 with 1 Axes>"
      ]
     },
     "metadata": {
      "needs_background": "light"
     },
     "output_type": "display_data"
    }
   ],
   "source": [
    "#call function\n",
    "end_state_data = full_route_count(A)\n",
    "\n",
    "#countplot\n",
    "p = sns.countplot(end_state_data, order=['early', 'on time', 'late'])\n",
    "p.axes.set_title('Scenario 6', fontsize=18, fontweight='bold')\n",
    "p.set_xlabel('Timeliness at Last Stop',fontsize=15)\n",
    "p.set_ylabel('Count',fontsize=15)\n",
    "p.tick_params(labelsize=15)\n",
    "\n",
    "plt.savefig('q1s6f1', bbox_inches='tight')\n",
    "plt.show()"
   ]
  },
  {
   "cell_type": "markdown",
   "metadata": {},
   "source": [
    "Given the transition matrix probabilities for Scenario 6, there is (about) an equal probability that the bus will return to stop 1 either early, on time, or late."
   ]
  },
  {
   "cell_type": "markdown",
   "metadata": {},
   "source": [
    "**Find Stationary Distribution of A11:**"
   ]
  },
  {
   "cell_type": "code",
   "execution_count": 27,
   "metadata": {},
   "outputs": [
    {
     "name": "stdout",
     "output_type": "stream",
     "text": [
      "[0.33333333 0.33333333 0.33333333]\n"
     ]
    }
   ],
   "source": [
    "#call function\n",
    "get_stationary(A12, A23, A34, A45, A56, A67, A78, A89, A910, A1011, A111)"
   ]
  },
  {
   "cell_type": "markdown",
   "metadata": {},
   "source": [
    "As time progresses, the probability distribution of early = .333, on time = .333, and late = .333, remains unchanged in the Markov chain."
   ]
  },
  {
   "cell_type": "markdown",
   "metadata": {},
   "source": [
    "**Find states of each stop for simulations of many full routes:**"
   ]
  },
  {
   "cell_type": "code",
   "execution_count": 28,
   "metadata": {},
   "outputs": [
    {
     "data": {
      "image/png": "[encoded data removed]",
      "text/plain": [
       "<Figure size 432x288 with 1 Axes>"
      ]
     },
     "metadata": {
      "needs_background": "light"
     },
     "output_type": "display_data"
    }
   ],
   "source": [
    "#call function\n",
    "stop_state_data = each_stop_count(A12, A23, A34, A45, A56, A67, A78, A89, A910, A1011, A111)\n",
    "\n",
    "#countplot\n",
    "p = sns.countplot(x='Stop', hue='State', data=stop_state_data, order=[2,3,4,5,6,7,8,9,10,11,1], \n",
    "                  hue_order=['early','on time','late'])\n",
    "p.axes.set_title('Scenario 6', fontsize=18, fontweight='bold')\n",
    "p.set_xlabel('Timeliness Along Route',fontsize=15)\n",
    "p.set_ylabel('Count',fontsize=15)\n",
    "p.tick_params(labelsize=15)\n",
    "\n",
    "plt.savefig('q1s6f3', bbox_inches='tight')\n",
    "plt.show()"
   ]
  },
  {
   "cell_type": "markdown",
   "metadata": {},
   "source": [
    "### Scenario 7:\n",
    "$A_{i,i+1}$ = $\\begin{bmatrix} .4 & .3 & .3 \\\\ .3 & .4 & .3 \\\\ .3 & .3 & .4 \\end{bmatrix}$ "
   ]
  },
  {
   "cell_type": "markdown",
   "metadata": {},
   "source": [
    "**Set up matrices:**"
   ]
  },
  {
   "cell_type": "code",
   "execution_count": 29,
   "metadata": {},
   "outputs": [],
   "source": [
    "#each bus stop\n",
    "A12 = A23 = A34 = A45 = A56 = A67 = A78 = A89 = A910 = A1011 = A111 = np.array([[.4,.3,.3], \n",
    "                                                                                [.3,.4,.3], \n",
    "                                                                                [.3,.3,.4]])\n",
    "#full bus route\n",
    "m0 = np.zeros((3,3))\n",
    "A = np.block([[m0,A12,m0,m0,m0,m0,m0,m0,m0,m0,m0], \n",
    "              [m0,m0,A23,m0,m0,m0,m0,m0,m0,m0,m0],\n",
    "              [m0,m0,m0,A34,m0,m0,m0,m0,m0,m0,m0],\n",
    "              [m0,m0,m0,m0,A45,m0,m0,m0,m0,m0,m0],\n",
    "              [m0,m0,m0,m0,m0,A56,m0,m0,m0,m0,m0],\n",
    "              [m0,m0,m0,m0,m0,m0,A67,m0,m0,m0,m0],\n",
    "              [m0,m0,m0,m0,m0,m0,m0,A78,m0,m0,m0],\n",
    "              [m0,m0,m0,m0,m0,m0,m0,m0,A89,m0,m0],\n",
    "              [m0,m0,m0,m0,m0,m0,m0,m0,m0,A910,m0],\n",
    "              [m0,m0,m0,m0,m0,m0,m0,m0,m0,m0,A1011], \n",
    "              [A111,m0,m0,m0,m0,m0,m0,m0,m0,m0,m0]])"
   ]
  },
  {
   "cell_type": "markdown",
   "metadata": {},
   "source": [
    "**Simulate multiple full bus routes and create countplot:**"
   ]
  },
  {
   "cell_type": "code",
   "execution_count": 30,
   "metadata": {},
   "outputs": [
    {
     "data": {
      "image/png": "[encoded data removed]",
      "text/plain": [
       "<Figure size 432x288 with 1 Axes>"
      ]
     },
     "metadata": {
      "needs_background": "light"
     },
     "output_type": "display_data"
    }
   ],
   "source": [
    "#call function\n",
    "end_state_data = full_route_count(A)\n",
    "\n",
    "#countplot\n",
    "p = sns.countplot(end_state_data, order=['early', 'on time', 'late'])\n",
    "p.axes.set_title('Scenario 7', fontsize=18, fontweight='bold')\n",
    "p.set_xlabel('Timeliness at Last Stop',fontsize=15)\n",
    "p.set_ylabel('Count',fontsize=15)\n",
    "p.tick_params(labelsize=15)\n",
    "\n",
    "plt.savefig('q1s7f1', bbox_inches='tight')\n",
    "plt.show()"
   ]
  },
  {
   "cell_type": "markdown",
   "metadata": {},
   "source": [
    "Given the transition matrix probabilities for Scenario 7, there is (about) an equal probability that the bus will return to stop 1 early, on time, or late."
   ]
  },
  {
   "cell_type": "markdown",
   "metadata": {},
   "source": [
    "**Find Stationary Distribution of A11:**"
   ]
  },
  {
   "cell_type": "code",
   "execution_count": 31,
   "metadata": {
    "scrolled": true
   },
   "outputs": [
    {
     "name": "stdout",
     "output_type": "stream",
     "text": [
      "[0.33333333 0.33333333 0.33333333]\n"
     ]
    }
   ],
   "source": [
    "#call function\n",
    "get_stationary(A12, A23, A34, A45, A56, A67, A78, A89, A910, A1011, A111)"
   ]
  },
  {
   "cell_type": "markdown",
   "metadata": {},
   "source": [
    "As time progresses, the probability distribution of early = .333, on time = .333, and late = .333, remains unchanged in the Markov chain."
   ]
  },
  {
   "cell_type": "markdown",
   "metadata": {},
   "source": [
    "**Find states of each stop for simulations of many full routes:**"
   ]
  },
  {
   "cell_type": "code",
   "execution_count": 32,
   "metadata": {},
   "outputs": [
    {
     "data": {
      "image/png": "[encoded data removed]",
      "text/plain": [
       "<Figure size 432x288 with 1 Axes>"
      ]
     },
     "metadata": {
      "needs_background": "light"
     },
     "output_type": "display_data"
    }
   ],
   "source": [
    "#call function\n",
    "stop_state_data = each_stop_count(A12, A23, A34, A45, A56, A67, A78, A89, A910, A1011, A111)\n",
    "\n",
    "#countplot\n",
    "p = sns.countplot(x='Stop', hue='State', data=stop_state_data, order=[2,3,4,5,6,7,8,9,10,11,1], \n",
    "                  hue_order=['early','on time','late'])\n",
    "p.axes.set_title('Scenario 7', fontsize=18, fontweight='bold')\n",
    "p.set_xlabel('Timeliness Along Route',fontsize=15)\n",
    "p.set_ylabel('Count',fontsize=15)\n",
    "p.tick_params(labelsize=15)\n",
    "\n",
    "plt.savefig('q1s7f3', bbox_inches='tight')\n",
    "plt.show()"
   ]
  },
  {
   "cell_type": "markdown",
   "metadata": {},
   "source": [
    "## Conclusion to Q1:\n",
    "As the probabilites of the 3 different states (early, on time, or late) become closer in value, more and more bus stops on the route have equal probabiity of being early, on time, or late. The farther the values of the transition matrix are, the longer the bus will stay 'mostly' on time."
   ]
  },
  {
   "cell_type": "markdown",
   "metadata": {},
   "source": [
    "## Question 2: How late can stop 3 and 4 be (where most students board), so that the bus still arrives on time at stop 8 (school)?"
   ]
  },
  {
   "cell_type": "markdown",
   "metadata": {},
   "source": [
    "**For this question, we will focus on a subset of the full route: Stop 2 - Stop 8. We will vary the transition matrices for stop 3 to 4 and stop 4 to 5, while keeping the rest fixed. This way, we will see how the timeliness of stop 3 and 4 affects if the passengers arrive to school on time.**\n",
    "\n",
    "**Since the bus's state at stop 1 is already given, the first stop affected by the transition matrix is stop 2. Stop 3 and stop 4 are the busiest stops for students boarding the bus to get to school. Hence, we will emphasize that when creating the transition matrix for stop 3 and 4 (by increasing the probability of being late, and never being early). The rest of the transition matrices (1 to 2, 2 to 3, 5 to 6, 6 to 7, and 7 to 8) will have fixed probabilities that favor being on time (there will be 0% chance of early since an early bus will wait and automatically count as on time).**\n",
    "\n",
    "**The fixed transition matrix was created so that each state has an 80% chance of remaining in that state for the next bus stop, and a 20% chance of switching states:**\n",
    "$A_{i,i+1}$ = $\\begin{bmatrix} .8 & .2 & 0 \\\\ .1 & .8 & .1 \\\\ 0 & .2 & .8 \\end{bmatrix}$ \n",
    "\n",
    "**However, since we will count 'early' as 'on time,' we combine those 2 probabilities into the 'on time' category:**\n",
    "$A_{i,i+1}$ = $\\begin{bmatrix} 0 & 1 & 0 \\\\ 0 & .9 & .1 \\\\ 0 & .2 & .8 \\end{bmatrix}$ "
   ]
  },
  {
   "cell_type": "markdown",
   "metadata": {},
   "source": [
    "### Scenario 1:\n",
    "$A_{i,i+1}$ = $\\begin{bmatrix} 0 & 1 & 0 \\\\ 0 & .9 & .1 \\\\ 0 & .2 & .8 \\end{bmatrix}$ \n",
    "\n",
    "EXCEPT\n",
    "\n",
    "$A_{3,4}$ = $A_{4,5}$ = $\\begin{bmatrix} 0 & .1 & .9 \\\\ 0 & .1 & .9 \\\\ 0 & .1 & .9 \\end{bmatrix}$ "
   ]
  },
  {
   "cell_type": "markdown",
   "metadata": {},
   "source": [
    "**Set up matrices:**"
   ]
  },
  {
   "cell_type": "code",
   "execution_count": 35,
   "metadata": {},
   "outputs": [],
   "source": [
    "#each bus stop\n",
    "A34 = A45 = np.array([[0,.1,.9], \n",
    "                      [0,.1,.9], \n",
    "                      [0,.1,.9]])\n",
    "A12 = A23 = A56 = A67 = A78 = A89 = A910 = A1011 = A111 = np.array(([[0,1,0], \n",
    "                                                                     [0,.9,.1], \n",
    "                                                                     [0,.2,.8]]))\n",
    "#full bus route\n",
    "m0 = np.zeros((3,3))\n",
    "A = np.block([[m0,A12,m0,m0,m0,m0,m0,m0,m0,m0,m0], \n",
    "              [m0,m0,A23,m0,m0,m0,m0,m0,m0,m0,m0],\n",
    "              [m0,m0,m0,A34,m0,m0,m0,m0,m0,m0,m0],\n",
    "              [m0,m0,m0,m0,A45,m0,m0,m0,m0,m0,m0],\n",
    "              [m0,m0,m0,m0,m0,A56,m0,m0,m0,m0,m0],\n",
    "              [m0,m0,m0,m0,m0,m0,A67,m0,m0,m0,m0],\n",
    "              [m0,m0,m0,m0,m0,m0,m0,A78,m0,m0,m0],\n",
    "              [m0,m0,m0,m0,m0,m0,m0,m0,A89,m0,m0],\n",
    "              [m0,m0,m0,m0,m0,m0,m0,m0,m0,A910,m0],\n",
    "              [m0,m0,m0,m0,m0,m0,m0,m0,m0,m0,A1011], \n",
    "              [A111,m0,m0,m0,m0,m0,m0,m0,m0,m0,m0]])"
   ]
  },
  {
   "cell_type": "markdown",
   "metadata": {},
   "source": [
    "**Find states of each stop for simulations of many full routes:**"
   ]
  },
  {
   "cell_type": "code",
   "execution_count": 36,
   "metadata": {
    "scrolled": true
   },
   "outputs": [
    {
     "data": {
      "image/png": "[encoded data removed]",
      "text/plain": [
       "<Figure size 432x288 with 1 Axes>"
      ]
     },
     "metadata": {
      "needs_background": "light"
     },
     "output_type": "display_data"
    }
   ],
   "source": [
    "#call function\n",
    "stop_state_data = each_stop_count(A12, A23, A34, A45, A56, A67, A78, A89, A910, A1011, A111)\n",
    "\n",
    "#only show stops 2-8\n",
    "stop_state_data = stop_state_data[stop_state_data.Stop.isin([2,3,4,5,6,7,8])]\n",
    "\n",
    "#countplot\n",
    "p = sns.countplot(x='Stop', hue='State', data=stop_state_data, order=[2,3,4,5,6,7,8], hue_order=['on time','late'])\n",
    "p.axes.set_title('Scenario 1', fontsize=18, fontweight='bold')\n",
    "p.set_xlabel('Timeliness Along Route',fontsize=15)\n",
    "p.set_ylabel('Count',fontsize=15)\n",
    "p.tick_params(labelsize=15)\n",
    "\n",
    "plt.savefig('q2s1', bbox_inches='tight')\n",
    "plt.show()"
   ]
  },
  {
   "cell_type": "markdown",
   "metadata": {},
   "source": [
    "### Scenario 2:\n",
    "$A_{i,i+1}$ = $\\begin{bmatrix} 0 & 1 & 0 \\\\ 0 & .9 & .1 \\\\ 0 & .2 & .8 \\end{bmatrix}$ \n",
    "\n",
    "EXCEPT\n",
    "\n",
    "$A_{3,4}$ = $A_{4,5}$ = $\\begin{bmatrix} 0 & .2 & .8 \\\\ 0 & .2 & .8 \\\\ 0 & .2 & .8 \\end{bmatrix}$ "
   ]
  },
  {
   "cell_type": "markdown",
   "metadata": {},
   "source": [
    "**Set up matrices:**"
   ]
  },
  {
   "cell_type": "code",
   "execution_count": 37,
   "metadata": {},
   "outputs": [],
   "source": [
    "#each bus stop\n",
    "A34 = A45 = np.array([[0,.2,.8], \n",
    "                      [0,.2,.8], \n",
    "                      [0,.2,.8]])\n",
    "A12 = A23 = A56 = A67 = A78 = A89 = A910 = A1011 = A111 = np.array(([[0,1,0], \n",
    "                                                                     [0,.9,.1], \n",
    "                                                                     [0,.2,.8]]))\n",
    "#full bus route\n",
    "m0 = np.zeros((3,3))\n",
    "A = np.block([[m0,A12,m0,m0,m0,m0,m0,m0,m0,m0,m0], \n",
    "              [m0,m0,A23,m0,m0,m0,m0,m0,m0,m0,m0],\n",
    "              [m0,m0,m0,A34,m0,m0,m0,m0,m0,m0,m0],\n",
    "              [m0,m0,m0,m0,A45,m0,m0,m0,m0,m0,m0],\n",
    "              [m0,m0,m0,m0,m0,A56,m0,m0,m0,m0,m0],\n",
    "              [m0,m0,m0,m0,m0,m0,A67,m0,m0,m0,m0],\n",
    "              [m0,m0,m0,m0,m0,m0,m0,A78,m0,m0,m0],\n",
    "              [m0,m0,m0,m0,m0,m0,m0,m0,A89,m0,m0],\n",
    "              [m0,m0,m0,m0,m0,m0,m0,m0,m0,A910,m0],\n",
    "              [m0,m0,m0,m0,m0,m0,m0,m0,m0,m0,A1011], \n",
    "              [A111,m0,m0,m0,m0,m0,m0,m0,m0,m0,m0]])"
   ]
  },
  {
   "cell_type": "markdown",
   "metadata": {},
   "source": [
    "**Find states of each stop for simulations of many full routes:**"
   ]
  },
  {
   "cell_type": "code",
   "execution_count": 38,
   "metadata": {},
   "outputs": [
    {
     "data": {
      "image/png": "[encoded data removed]",
      "text/plain": [
       "<Figure size 432x288 with 1 Axes>"
      ]
     },
     "metadata": {
      "needs_background": "light"
     },
     "output_type": "display_data"
    }
   ],
   "source": [
    "#call function\n",
    "stop_state_data = each_stop_count(A12, A23, A34, A45, A56, A67, A78, A89, A910, A1011, A111)\n",
    "\n",
    "#only show stops 2-8\n",
    "stop_state_data = stop_state_data[stop_state_data.Stop.isin([2,3,4,5,6,7,8])]\n",
    "\n",
    "#countplot\n",
    "p = sns.countplot(x='Stop', hue='State', data=stop_state_data, order=[2,3,4,5,6,7,8], hue_order=['on time','late'])\n",
    "p.axes.set_title('Scenario 2', fontsize=18, fontweight='bold')\n",
    "p.set_xlabel('Timeliness Along Route',fontsize=15)\n",
    "p.set_ylabel('Count',fontsize=15)\n",
    "p.tick_params(labelsize=15)\n",
    "\n",
    "plt.savefig('q2s2', bbox_inches='tight')\n",
    "plt.show()"
   ]
  },
  {
   "cell_type": "markdown",
   "metadata": {},
   "source": [
    "### Scenario 3:\n",
    "$A_{i,i+1}$ = $\\begin{bmatrix} 0 & 1 & 0 \\\\ 0 & .9 & .1 \\\\ 0 & .2 & .8 \\end{bmatrix}$  \n",
    "\n",
    "EXCEPT\n",
    "\n",
    "$A_{3,4}$ = $A_{4,5}$ = $\\begin{bmatrix} 0 & .3 & .7 \\\\ 0 & .3 & .7 \\\\ 0 & .3 & .7 \\end{bmatrix}$ "
   ]
  },
  {
   "cell_type": "markdown",
   "metadata": {},
   "source": [
    "**Set up matrices:**"
   ]
  },
  {
   "cell_type": "code",
   "execution_count": 39,
   "metadata": {},
   "outputs": [],
   "source": [
    "#each bus stop\n",
    "A34 = A45 = np.array([[0,.3,.7], \n",
    "                      [0,.3,.7], \n",
    "                      [0,.3,.7]])\n",
    "A12 = A23 = A56 = A67 = A78 = A89 = A910 = A1011 = A111 = np.array(([[0,1,0], \n",
    "                                                                     [0,.9,.1], \n",
    "                                                                     [0,.2,.8]]))\n",
    "#full bus route\n",
    "m0 = np.zeros((3,3))\n",
    "A = np.block([[m0,A12,m0,m0,m0,m0,m0,m0,m0,m0,m0], \n",
    "              [m0,m0,A23,m0,m0,m0,m0,m0,m0,m0,m0],\n",
    "              [m0,m0,m0,A34,m0,m0,m0,m0,m0,m0,m0],\n",
    "              [m0,m0,m0,m0,A45,m0,m0,m0,m0,m0,m0],\n",
    "              [m0,m0,m0,m0,m0,A56,m0,m0,m0,m0,m0],\n",
    "              [m0,m0,m0,m0,m0,m0,A67,m0,m0,m0,m0],\n",
    "              [m0,m0,m0,m0,m0,m0,m0,A78,m0,m0,m0],\n",
    "              [m0,m0,m0,m0,m0,m0,m0,m0,A89,m0,m0],\n",
    "              [m0,m0,m0,m0,m0,m0,m0,m0,m0,A910,m0],\n",
    "              [m0,m0,m0,m0,m0,m0,m0,m0,m0,m0,A1011], \n",
    "              [A111,m0,m0,m0,m0,m0,m0,m0,m0,m0,m0]])"
   ]
  },
  {
   "cell_type": "markdown",
   "metadata": {},
   "source": [
    "**Find states of each stop for simulations of many full routes:**"
   ]
  },
  {
   "cell_type": "code",
   "execution_count": 40,
   "metadata": {},
   "outputs": [
    {
     "data": {
      "image/png": "[encoded data removed]",
      "text/plain": [
       "<Figure size 432x288 with 1 Axes>"
      ]
     },
     "metadata": {
      "needs_background": "light"
     },
     "output_type": "display_data"
    }
   ],
   "source": [
    "#call function\n",
    "stop_state_data = each_stop_count(A12, A23, A34, A45, A56, A67, A78, A89, A910, A1011, A111)\n",
    "\n",
    "#only show stops 2-8\n",
    "stop_state_data = stop_state_data[stop_state_data.Stop.isin([2,3,4,5,6,7,8])]\n",
    "\n",
    "#countplot\n",
    "p = sns.countplot(x='Stop', hue='State', data=stop_state_data, order=[2,3,4,5,6,7,8], hue_order=['on time','late'])\n",
    "p.axes.set_title('Scenario 3', fontsize=18, fontweight='bold')\n",
    "p.set_xlabel('Timeliness Along Route',fontsize=15)\n",
    "p.set_ylabel('Count',fontsize=15)\n",
    "p.tick_params(labelsize=15)\n",
    "\n",
    "plt.savefig('q2s3', bbox_inches='tight')\n",
    "plt.show()"
   ]
  },
  {
   "cell_type": "markdown",
   "metadata": {},
   "source": [
    "### Scenario 4:\n",
    "$A_{i,i+1}$ = $\\begin{bmatrix} 0 & 1 & 0 \\\\ 0 & .9 & .1 \\\\ 0 & .2 & .8 \\end{bmatrix}$ \n",
    "\n",
    "EXCEPT\n",
    "\n",
    "$A_{3,4}$ = $A_{4,5}$ = $\\begin{bmatrix} 0 & .4 & .6 \\\\ 0 & .4 & .6 \\\\ 0 & .4 & .6 \\end{bmatrix}$ "
   ]
  },
  {
   "cell_type": "markdown",
   "metadata": {},
   "source": [
    "**Set up matrices:**"
   ]
  },
  {
   "cell_type": "code",
   "execution_count": 41,
   "metadata": {},
   "outputs": [],
   "source": [
    "#each bus stop\n",
    "A34 = A45 = np.array([[0,.4,.6], \n",
    "                      [0,.4,.6], \n",
    "                      [0,.4,.6]])\n",
    "A12 = A23 = A56 = A67 = A78 = A89 = A910 = A1011 = A111 = np.array(([[0,1,0], \n",
    "                                                                     [0,.9,.1], \n",
    "                                                                     [0,.2,.8]]))\n",
    "#full bus route\n",
    "m0 = np.zeros((3,3))\n",
    "A = np.block([[m0,A12,m0,m0,m0,m0,m0,m0,m0,m0,m0], \n",
    "              [m0,m0,A23,m0,m0,m0,m0,m0,m0,m0,m0],\n",
    "              [m0,m0,m0,A34,m0,m0,m0,m0,m0,m0,m0],\n",
    "              [m0,m0,m0,m0,A45,m0,m0,m0,m0,m0,m0],\n",
    "              [m0,m0,m0,m0,m0,A56,m0,m0,m0,m0,m0],\n",
    "              [m0,m0,m0,m0,m0,m0,A67,m0,m0,m0,m0],\n",
    "              [m0,m0,m0,m0,m0,m0,m0,A78,m0,m0,m0],\n",
    "              [m0,m0,m0,m0,m0,m0,m0,m0,A89,m0,m0],\n",
    "              [m0,m0,m0,m0,m0,m0,m0,m0,m0,A910,m0],\n",
    "              [m0,m0,m0,m0,m0,m0,m0,m0,m0,m0,A1011], \n",
    "              [A111,m0,m0,m0,m0,m0,m0,m0,m0,m0,m0]])"
   ]
  },
  {
   "cell_type": "markdown",
   "metadata": {},
   "source": [
    "**Find states of each stop for simulations of many full routes:**"
   ]
  },
  {
   "cell_type": "code",
   "execution_count": 42,
   "metadata": {
    "scrolled": true
   },
   "outputs": [
    {
     "data": {
      "image/png": "[encoded data removed]",
      "text/plain": [
       "<Figure size 432x288 with 1 Axes>"
      ]
     },
     "metadata": {
      "needs_background": "light"
     },
     "output_type": "display_data"
    }
   ],
   "source": [
    "#call function\n",
    "stop_state_data = each_stop_count(A12, A23, A34, A45, A56, A67, A78, A89, A910, A1011, A111)\n",
    "\n",
    "#only show stops 2-8\n",
    "stop_state_data = stop_state_data[stop_state_data.Stop.isin([2,3,4,5,6,7,8])]\n",
    "\n",
    "#countplot\n",
    "p = sns.countplot(x='Stop', hue='State', data=stop_state_data, order=[2,3,4,5,6,7,8], hue_order=['on time','late'])\n",
    "p.axes.set_title('Scenario 4', fontsize=18, fontweight='bold')\n",
    "p.set_xlabel('Timeliness Along Route',fontsize=15)\n",
    "p.set_ylabel('Count',fontsize=15)\n",
    "p.tick_params(labelsize=15)\n",
    "\n",
    "plt.savefig('q2s4', bbox_inches='tight')\n",
    "plt.show()"
   ]
  },
  {
   "cell_type": "markdown",
   "metadata": {},
   "source": [
    "### Scenario 5:\n",
    "$A_{i,i+1}$ = $\\begin{bmatrix} 0 & 1 & 0 \\\\ 0 & .9 & .1 \\\\ 0 & .2 & .8 \\end{bmatrix}$ \n",
    "\n",
    "EXCEPT\n",
    "\n",
    "$A_{3,4}$ = $A_{4,5}$ = $\\begin{bmatrix} 0 & .5 & .5 \\\\ 0 & .5 & .5 \\\\ 0 & .5 & .5 \\end{bmatrix}$ "
   ]
  },
  {
   "cell_type": "markdown",
   "metadata": {},
   "source": [
    "**Set up matrices:**"
   ]
  },
  {
   "cell_type": "code",
   "execution_count": 43,
   "metadata": {},
   "outputs": [],
   "source": [
    "#each bus stop\n",
    "A34 = A45 = np.array([[0,.5,.5], \n",
    "                      [0,.5,.5], \n",
    "                      [0,.5,.5]])\n",
    "A12 = A23 = A56 = A67 = A78 = A89 = A910 = A1011 = A111 = np.array(([[0,1,0], \n",
    "                                                                     [0,.9,.1], \n",
    "                                                                     [0,.2,.8]]))\n",
    "#full bus route\n",
    "m0 = np.zeros((3,3))\n",
    "A = np.block([[m0,A12,m0,m0,m0,m0,m0,m0,m0,m0,m0], \n",
    "              [m0,m0,A23,m0,m0,m0,m0,m0,m0,m0,m0],\n",
    "              [m0,m0,m0,A34,m0,m0,m0,m0,m0,m0,m0],\n",
    "              [m0,m0,m0,m0,A45,m0,m0,m0,m0,m0,m0],\n",
    "              [m0,m0,m0,m0,m0,A56,m0,m0,m0,m0,m0],\n",
    "              [m0,m0,m0,m0,m0,m0,A67,m0,m0,m0,m0],\n",
    "              [m0,m0,m0,m0,m0,m0,m0,A78,m0,m0,m0],\n",
    "              [m0,m0,m0,m0,m0,m0,m0,m0,A89,m0,m0],\n",
    "              [m0,m0,m0,m0,m0,m0,m0,m0,m0,A910,m0],\n",
    "              [m0,m0,m0,m0,m0,m0,m0,m0,m0,m0,A1011], \n",
    "              [A111,m0,m0,m0,m0,m0,m0,m0,m0,m0,m0]])"
   ]
  },
  {
   "cell_type": "markdown",
   "metadata": {},
   "source": [
    "**Find states of each stop for simulations of many full routes:**"
   ]
  },
  {
   "cell_type": "code",
   "execution_count": 44,
   "metadata": {
    "scrolled": true
   },
   "outputs": [
    {
     "data": {
      "image/png": "[encoded data removed]",
      "text/plain": [
       "<Figure size 432x288 with 1 Axes>"
      ]
     },
     "metadata": {
      "needs_background": "light"
     },
     "output_type": "display_data"
    }
   ],
   "source": [
    "#call function\n",
    "stop_state_data = each_stop_count(A12, A23, A34, A45, A56, A67, A78, A89, A910, A1011, A111)\n",
    "\n",
    "#only show stops 2-8\n",
    "stop_state_data = stop_state_data[stop_state_data.Stop.isin([2,3,4,5,6,7,8])]\n",
    "\n",
    "#countplot\n",
    "p = sns.countplot(x='Stop', hue='State', data=stop_state_data, order=[2,3,4,5,6,7,8], hue_order=['on time','late'])\n",
    "p.axes.set_title('Scenario 5', fontsize=18, fontweight='bold')\n",
    "p.set_xlabel('Timeliness Along Route',fontsize=15)\n",
    "p.set_ylabel('Count',fontsize=15)\n",
    "p.tick_params(labelsize=15)\n",
    "\n",
    "plt.savefig('q2s5', bbox_inches='tight')\n",
    "plt.show()"
   ]
  }
 ],
 "metadata": {
  "kernelspec": {
   "display_name": "Python 3",
   "language": "python",
   "name": "python3"
  },
  "language_info": {
   "codemirror_mode": {
    "name": "ipython",
    "version": 3
   },
   "file_extension": ".py",
   "mimetype": "text/x-python",
   "name": "python",
   "nbconvert_exporter": "python",
   "pygments_lexer": "ipython3",
   "version": "3.6.8"
  }
 },
 "nbformat": 4,
 "nbformat_minor": 4
}
